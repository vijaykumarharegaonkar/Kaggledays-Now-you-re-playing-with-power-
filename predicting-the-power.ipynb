{
 "cells": [
  {
   "cell_type": "code",
   "execution_count": 1,
   "id": "c39d4680",
   "metadata": {
    "_cell_guid": "b1076dfc-b9ad-4769-8c92-a6c4dae69d19",
    "_uuid": "8f2839f25d086af736a60e9eeb907d3b93b6e0e5",
    "execution": {
     "iopub.execute_input": "2022-01-17T10:39:25.276523Z",
     "iopub.status.busy": "2022-01-17T10:39:25.274665Z",
     "iopub.status.idle": "2022-01-17T10:39:26.411552Z",
     "shell.execute_reply": "2022-01-17T10:39:26.410850Z",
     "shell.execute_reply.started": "2022-01-17T10:37:08.921271Z"
    },
    "papermill": {
     "duration": 1.169555,
     "end_time": "2022-01-17T10:39:26.411763",
     "exception": false,
     "start_time": "2022-01-17T10:39:25.242208",
     "status": "completed"
    },
    "tags": []
   },
   "outputs": [
    {
     "name": "stdout",
     "output_type": "stream",
     "text": [
      "/kaggle/input/now-you-are-playing-with-power/sample_submission.csv\n",
      "/kaggle/input/now-you-are-playing-with-power/train.csv\n",
      "/kaggle/input/now-you-are-playing-with-power/test.csv\n"
     ]
    }
   ],
   "source": [
    "# This Python 3 environment comes with many helpful analytics libraries installed\n",
    "# It is defined by the kaggle/python Docker image: https://github.com/kaggle/docker-python\n",
    "# For example, here's several helpful packages to load\n",
    "\n",
    "import numpy as np # linear algebra\n",
    "import pandas as pd # data processing, CSV file I/O (e.g. pd.read_csv)\n",
    "\n",
    "# Input data files are available in the read-only \"../input/\" directory\n",
    "# For example, running this (by clicking run or pressing Shift+Enter) will list all files under the input directory\n",
    "\n",
    "import os\n",
    "for dirname, _, filenames in os.walk('/kaggle/input'):\n",
    "    for filename in filenames:\n",
    "        print(os.path.join(dirname, filename))\n",
    "              \n",
    " # Plotly Packages\n",
    "\n",
    "# Matplotlib and Seaborn\n",
    "import matplotlib.pyplot as plt\n",
    "import seaborn as sns\n",
    "from string import ascii_letters\n",
    "\n",
    "# Statistical Libraries\n",
    "from scipy.stats import norm\n",
    "from scipy.stats import skew\n",
    "from scipy.stats.stats import pearsonr\n",
    "from scipy import stats\n",
    "\n",
    "# Other Libraries\n",
    "import warnings\n",
    "warnings.filterwarnings(\"ignore\")       \n",
    "\n",
    "# You can write up to 20GB to the current directory (/kaggle/working/) that gets preserved as output when you create a version using \"Save & Run All\" \n",
    "# You can also write temporary files to /kaggle/temp/, but they won't be saved outside of the current session"
   ]
  },
  {
   "cell_type": "code",
   "execution_count": 2,
   "id": "bc10339c",
   "metadata": {
    "execution": {
     "iopub.execute_input": "2022-01-17T10:39:26.471975Z",
     "iopub.status.busy": "2022-01-17T10:39:26.471095Z",
     "iopub.status.idle": "2022-01-17T10:39:27.317383Z",
     "shell.execute_reply": "2022-01-17T10:39:27.318368Z",
     "shell.execute_reply.started": "2022-01-17T10:37:12.002659Z"
    },
    "papermill": {
     "duration": 0.879075,
     "end_time": "2022-01-17T10:39:27.318637",
     "exception": false,
     "start_time": "2022-01-17T10:39:26.439562",
     "status": "completed"
    },
    "tags": []
   },
   "outputs": [],
   "source": [
    "\n",
    "train_data = pd.read_csv('../input/now-you-are-playing-with-power/train.csv')\n",
    "test_data = pd.read_csv('../input/now-you-are-playing-with-power/test.csv')\n",
    "\n",
    "orignal_df = train_data.copy()"
   ]
  },
  {
   "cell_type": "code",
   "execution_count": 3,
   "id": "d5fa178e",
   "metadata": {
    "execution": {
     "iopub.execute_input": "2022-01-17T10:39:27.376358Z",
     "iopub.status.busy": "2022-01-17T10:39:27.375369Z",
     "iopub.status.idle": "2022-01-17T10:39:27.405349Z",
     "shell.execute_reply": "2022-01-17T10:39:27.405890Z",
     "shell.execute_reply.started": "2022-01-17T10:37:14.842218Z"
    },
    "papermill": {
     "duration": 0.059896,
     "end_time": "2022-01-17T10:39:27.406064",
     "exception": false,
     "start_time": "2022-01-17T10:39:27.346168",
     "status": "completed"
    },
    "tags": []
   },
   "outputs": [
    {
     "data": {
      "text/html": [
       "<div>\n",
       "<style scoped>\n",
       "    .dataframe tbody tr th:only-of-type {\n",
       "        vertical-align: middle;\n",
       "    }\n",
       "\n",
       "    .dataframe tbody tr th {\n",
       "        vertical-align: top;\n",
       "    }\n",
       "\n",
       "    .dataframe thead th {\n",
       "        text-align: right;\n",
       "    }\n",
       "</style>\n",
       "<table border=\"1\" class=\"dataframe\">\n",
       "  <thead>\n",
       "    <tr style=\"text-align: right;\">\n",
       "      <th></th>\n",
       "      <th>id</th>\n",
       "      <th>obs_day</th>\n",
       "      <th>obs_hour</th>\n",
       "      <th>obs_minute</th>\n",
       "      <th>C_motion</th>\n",
       "      <th>fw_motion</th>\n",
       "      <th>faucet_hole</th>\n",
       "      <th>vap_pressure</th>\n",
       "      <th>vap_enth</th>\n",
       "      <th>vap_pressure_div</th>\n",
       "      <th>vap_motion</th>\n",
       "      <th>fw_enth</th>\n",
       "      <th>vap_temp</th>\n",
       "      <th>output_gen</th>\n",
       "    </tr>\n",
       "  </thead>\n",
       "  <tbody>\n",
       "    <tr>\n",
       "      <th>0</th>\n",
       "      <td>a563699ca2a601c6ac64aa29986a00a90fb42b48741695...</td>\n",
       "      <td>Saturday</td>\n",
       "      <td>5.0</td>\n",
       "      <td>46.0</td>\n",
       "      <td>361.486145</td>\n",
       "      <td>2542.801078</td>\n",
       "      <td>0.666879</td>\n",
       "      <td>24.138243</td>\n",
       "      <td>2788.168701</td>\n",
       "      <td>25.448248</td>\n",
       "      <td>2543.177002</td>\n",
       "      <td>1270.066040</td>\n",
       "      <td>603.834106</td>\n",
       "      <td>930.271729</td>\n",
       "    </tr>\n",
       "    <tr>\n",
       "      <th>1</th>\n",
       "      <td>91ab3eb3bcf6c8c1c5fe2da9ba671aa5a48c7369d9a50f...</td>\n",
       "      <td>Saturday</td>\n",
       "      <td>18.0</td>\n",
       "      <td>NaN</td>\n",
       "      <td>197.064667</td>\n",
       "      <td>1454.458144</td>\n",
       "      <td>NaN</td>\n",
       "      <td>12.702796</td>\n",
       "      <td>NaN</td>\n",
       "      <td>13.405114</td>\n",
       "      <td>1454.421021</td>\n",
       "      <td>1095.314453</td>\n",
       "      <td>500.178772</td>\n",
       "      <td>473.562103</td>\n",
       "    </tr>\n",
       "    <tr>\n",
       "      <th>2</th>\n",
       "      <td>7128c51c554735d6c81862684ad6005ae12d2edbcd4644...</td>\n",
       "      <td>Saturday</td>\n",
       "      <td>3.0</td>\n",
       "      <td>51.0</td>\n",
       "      <td>356.869232</td>\n",
       "      <td>2458.671690</td>\n",
       "      <td>0.678685</td>\n",
       "      <td>NaN</td>\n",
       "      <td>2784.910889</td>\n",
       "      <td>NaN</td>\n",
       "      <td>2456.578369</td>\n",
       "      <td>1262.656982</td>\n",
       "      <td>603.529663</td>\n",
       "      <td>904.269897</td>\n",
       "    </tr>\n",
       "    <tr>\n",
       "      <th>3</th>\n",
       "      <td>c8144b52e4f63014de0a0d8e1c629bf0b05cb2696cfc23...</td>\n",
       "      <td>Saturday</td>\n",
       "      <td>13.0</td>\n",
       "      <td>NaN</td>\n",
       "      <td>239.267517</td>\n",
       "      <td>1628.127295</td>\n",
       "      <td>0.679137</td>\n",
       "      <td>15.378051</td>\n",
       "      <td>2881.876709</td>\n",
       "      <td>16.252741</td>\n",
       "      <td>1626.861328</td>\n",
       "      <td>1148.203857</td>\n",
       "      <td>593.649658</td>\n",
       "      <td>597.799194</td>\n",
       "    </tr>\n",
       "    <tr>\n",
       "      <th>4</th>\n",
       "      <td>88d15a5b2df6692f23d105ff1ae82ae026be00c9271eef...</td>\n",
       "      <td>Friday</td>\n",
       "      <td>11.0</td>\n",
       "      <td>13.0</td>\n",
       "      <td>NaN</td>\n",
       "      <td>2621.829401</td>\n",
       "      <td>0.676403</td>\n",
       "      <td>24.517698</td>\n",
       "      <td>2787.063232</td>\n",
       "      <td>NaN</td>\n",
       "      <td>2621.653564</td>\n",
       "      <td>1280.567383</td>\n",
       "      <td>602.601501</td>\n",
       "      <td>950.284973</td>\n",
       "    </tr>\n",
       "  </tbody>\n",
       "</table>\n",
       "</div>"
      ],
      "text/plain": [
       "                                                  id   obs_day  obs_hour  \\\n",
       "0  a563699ca2a601c6ac64aa29986a00a90fb42b48741695...  Saturday       5.0   \n",
       "1  91ab3eb3bcf6c8c1c5fe2da9ba671aa5a48c7369d9a50f...  Saturday      18.0   \n",
       "2  7128c51c554735d6c81862684ad6005ae12d2edbcd4644...  Saturday       3.0   \n",
       "3  c8144b52e4f63014de0a0d8e1c629bf0b05cb2696cfc23...  Saturday      13.0   \n",
       "4  88d15a5b2df6692f23d105ff1ae82ae026be00c9271eef...    Friday      11.0   \n",
       "\n",
       "   obs_minute    C_motion    fw_motion  faucet_hole  vap_pressure  \\\n",
       "0        46.0  361.486145  2542.801078     0.666879     24.138243   \n",
       "1         NaN  197.064667  1454.458144          NaN     12.702796   \n",
       "2        51.0  356.869232  2458.671690     0.678685           NaN   \n",
       "3         NaN  239.267517  1628.127295     0.679137     15.378051   \n",
       "4        13.0         NaN  2621.829401     0.676403     24.517698   \n",
       "\n",
       "      vap_enth  vap_pressure_div   vap_motion      fw_enth    vap_temp  \\\n",
       "0  2788.168701         25.448248  2543.177002  1270.066040  603.834106   \n",
       "1          NaN         13.405114  1454.421021  1095.314453  500.178772   \n",
       "2  2784.910889               NaN  2456.578369  1262.656982  603.529663   \n",
       "3  2881.876709         16.252741  1626.861328  1148.203857  593.649658   \n",
       "4  2787.063232               NaN  2621.653564  1280.567383  602.601501   \n",
       "\n",
       "   output_gen  \n",
       "0  930.271729  \n",
       "1  473.562103  \n",
       "2  904.269897  \n",
       "3  597.799194  \n",
       "4  950.284973  "
      ]
     },
     "execution_count": 3,
     "metadata": {},
     "output_type": "execute_result"
    }
   ],
   "source": [
    "train_data.head()"
   ]
  },
  {
   "cell_type": "code",
   "execution_count": 4,
   "id": "1a918609",
   "metadata": {
    "execution": {
     "iopub.execute_input": "2022-01-17T10:39:27.466132Z",
     "iopub.status.busy": "2022-01-17T10:39:27.465122Z",
     "iopub.status.idle": "2022-01-17T10:39:27.557816Z",
     "shell.execute_reply": "2022-01-17T10:39:27.557120Z",
     "shell.execute_reply.started": "2022-01-17T10:37:17.077845Z"
    },
    "papermill": {
     "duration": 0.123936,
     "end_time": "2022-01-17T10:39:27.557966",
     "exception": false,
     "start_time": "2022-01-17T10:39:27.434030",
     "status": "completed"
    },
    "tags": []
   },
   "outputs": [
    {
     "data": {
      "text/html": [
       "<div>\n",
       "<style scoped>\n",
       "    .dataframe tbody tr th:only-of-type {\n",
       "        vertical-align: middle;\n",
       "    }\n",
       "\n",
       "    .dataframe tbody tr th {\n",
       "        vertical-align: top;\n",
       "    }\n",
       "\n",
       "    .dataframe thead th {\n",
       "        text-align: right;\n",
       "    }\n",
       "</style>\n",
       "<table border=\"1\" class=\"dataframe\">\n",
       "  <thead>\n",
       "    <tr style=\"text-align: right;\">\n",
       "      <th></th>\n",
       "      <th>obs_hour</th>\n",
       "      <th>obs_minute</th>\n",
       "      <th>C_motion</th>\n",
       "      <th>fw_motion</th>\n",
       "      <th>faucet_hole</th>\n",
       "      <th>vap_pressure</th>\n",
       "      <th>vap_enth</th>\n",
       "      <th>vap_pressure_div</th>\n",
       "      <th>vap_motion</th>\n",
       "      <th>fw_enth</th>\n",
       "      <th>vap_temp</th>\n",
       "      <th>output_gen</th>\n",
       "    </tr>\n",
       "  </thead>\n",
       "  <tbody>\n",
       "    <tr>\n",
       "      <th>count</th>\n",
       "      <td>64030.000000</td>\n",
       "      <td>64148.000000</td>\n",
       "      <td>64089.000000</td>\n",
       "      <td>64088.000000</td>\n",
       "      <td>64085.000000</td>\n",
       "      <td>64069.000000</td>\n",
       "      <td>64179.000000</td>\n",
       "      <td>64197.000000</td>\n",
       "      <td>64108.000000</td>\n",
       "      <td>64157.000000</td>\n",
       "      <td>64112.000000</td>\n",
       "      <td>72000.000000</td>\n",
       "    </tr>\n",
       "    <tr>\n",
       "      <th>mean</th>\n",
       "      <td>11.876573</td>\n",
       "      <td>29.331951</td>\n",
       "      <td>328.502440</td>\n",
       "      <td>2287.004777</td>\n",
       "      <td>0.670591</td>\n",
       "      <td>21.795922</td>\n",
       "      <td>2795.466210</td>\n",
       "      <td>23.003577</td>\n",
       "      <td>2309.925216</td>\n",
       "      <td>1230.615583</td>\n",
       "      <td>591.008818</td>\n",
       "      <td>829.873198</td>\n",
       "    </tr>\n",
       "    <tr>\n",
       "      <th>std</th>\n",
       "      <td>6.036525</td>\n",
       "      <td>17.297359</td>\n",
       "      <td>83.352896</td>\n",
       "      <td>448.204859</td>\n",
       "      <td>0.011327</td>\n",
       "      <td>5.545952</td>\n",
       "      <td>39.308843</td>\n",
       "      <td>5.832061</td>\n",
       "      <td>567.651009</td>\n",
       "      <td>255.842264</td>\n",
       "      <td>30.045351</td>\n",
       "      <td>174.256932</td>\n",
       "    </tr>\n",
       "    <tr>\n",
       "      <th>min</th>\n",
       "      <td>0.000000</td>\n",
       "      <td>0.000000</td>\n",
       "      <td>114.718575</td>\n",
       "      <td>1082.600626</td>\n",
       "      <td>0.602171</td>\n",
       "      <td>9.264307</td>\n",
       "      <td>2693.728271</td>\n",
       "      <td>9.766433</td>\n",
       "      <td>1085.054565</td>\n",
       "      <td>0.000000</td>\n",
       "      <td>466.858826</td>\n",
       "      <td>337.281067</td>\n",
       "    </tr>\n",
       "    <tr>\n",
       "      <th>25%</th>\n",
       "      <td>7.000000</td>\n",
       "      <td>14.000000</td>\n",
       "      <td>319.363281</td>\n",
       "      <td>2229.210642</td>\n",
       "      <td>0.662388</td>\n",
       "      <td>22.209974</td>\n",
       "      <td>2772.308716</td>\n",
       "      <td>23.490790</td>\n",
       "      <td>2333.306030</td>\n",
       "      <td>1248.165649</td>\n",
       "      <td>600.529053</td>\n",
       "      <td>841.792420</td>\n",
       "    </tr>\n",
       "    <tr>\n",
       "      <th>50%</th>\n",
       "      <td>12.000000</td>\n",
       "      <td>29.000000</td>\n",
       "      <td>350.142700</td>\n",
       "      <td>2461.767206</td>\n",
       "      <td>0.675311</td>\n",
       "      <td>23.302608</td>\n",
       "      <td>2787.034424</td>\n",
       "      <td>24.588034</td>\n",
       "      <td>2462.670654</td>\n",
       "      <td>1263.858887</td>\n",
       "      <td>602.362214</td>\n",
       "      <td>903.376618</td>\n",
       "    </tr>\n",
       "    <tr>\n",
       "      <th>75%</th>\n",
       "      <td>17.000000</td>\n",
       "      <td>44.000000</td>\n",
       "      <td>361.965179</td>\n",
       "      <td>2553.177473</td>\n",
       "      <td>0.678516</td>\n",
       "      <td>24.210491</td>\n",
       "      <td>2810.836670</td>\n",
       "      <td>25.518826</td>\n",
       "      <td>2555.305725</td>\n",
       "      <td>1274.751343</td>\n",
       "      <td>603.337692</td>\n",
       "      <td>932.125962</td>\n",
       "    </tr>\n",
       "    <tr>\n",
       "      <th>max</th>\n",
       "      <td>23.000000</td>\n",
       "      <td>59.000000</td>\n",
       "      <td>1698.141480</td>\n",
       "      <td>2932.372995</td>\n",
       "      <td>0.687707</td>\n",
       "      <td>109.212808</td>\n",
       "      <td>2933.161133</td>\n",
       "      <td>115.109406</td>\n",
       "      <td>11675.035156</td>\n",
       "      <td>5256.435548</td>\n",
       "      <td>608.553467</td>\n",
       "      <td>1055.392090</td>\n",
       "    </tr>\n",
       "  </tbody>\n",
       "</table>\n",
       "</div>"
      ],
      "text/plain": [
       "           obs_hour    obs_minute      C_motion     fw_motion   faucet_hole  \\\n",
       "count  64030.000000  64148.000000  64089.000000  64088.000000  64085.000000   \n",
       "mean      11.876573     29.331951    328.502440   2287.004777      0.670591   \n",
       "std        6.036525     17.297359     83.352896    448.204859      0.011327   \n",
       "min        0.000000      0.000000    114.718575   1082.600626      0.602171   \n",
       "25%        7.000000     14.000000    319.363281   2229.210642      0.662388   \n",
       "50%       12.000000     29.000000    350.142700   2461.767206      0.675311   \n",
       "75%       17.000000     44.000000    361.965179   2553.177473      0.678516   \n",
       "max       23.000000     59.000000   1698.141480   2932.372995      0.687707   \n",
       "\n",
       "       vap_pressure      vap_enth  vap_pressure_div    vap_motion  \\\n",
       "count  64069.000000  64179.000000      64197.000000  64108.000000   \n",
       "mean      21.795922   2795.466210         23.003577   2309.925216   \n",
       "std        5.545952     39.308843          5.832061    567.651009   \n",
       "min        9.264307   2693.728271          9.766433   1085.054565   \n",
       "25%       22.209974   2772.308716         23.490790   2333.306030   \n",
       "50%       23.302608   2787.034424         24.588034   2462.670654   \n",
       "75%       24.210491   2810.836670         25.518826   2555.305725   \n",
       "max      109.212808   2933.161133        115.109406  11675.035156   \n",
       "\n",
       "            fw_enth      vap_temp    output_gen  \n",
       "count  64157.000000  64112.000000  72000.000000  \n",
       "mean    1230.615583    591.008818    829.873198  \n",
       "std      255.842264     30.045351    174.256932  \n",
       "min        0.000000    466.858826    337.281067  \n",
       "25%     1248.165649    600.529053    841.792420  \n",
       "50%     1263.858887    602.362214    903.376618  \n",
       "75%     1274.751343    603.337692    932.125962  \n",
       "max     5256.435548    608.553467   1055.392090  "
      ]
     },
     "execution_count": 4,
     "metadata": {},
     "output_type": "execute_result"
    }
   ],
   "source": [
    "train_data.describe()"
   ]
  },
  {
   "cell_type": "code",
   "execution_count": 5,
   "id": "7c864c3e",
   "metadata": {
    "execution": {
     "iopub.execute_input": "2022-01-17T10:39:27.621154Z",
     "iopub.status.busy": "2022-01-17T10:39:27.620486Z",
     "iopub.status.idle": "2022-01-17T10:39:27.626234Z",
     "shell.execute_reply": "2022-01-17T10:39:27.625696Z",
     "shell.execute_reply.started": "2022-01-17T10:37:19.623025Z"
    },
    "papermill": {
     "duration": 0.040358,
     "end_time": "2022-01-17T10:39:27.626383",
     "exception": false,
     "start_time": "2022-01-17T10:39:27.586025",
     "status": "completed"
    },
    "tags": []
   },
   "outputs": [
    {
     "name": "stdout",
     "output_type": "stream",
     "text": [
      "Total number of rows in training data  72000\n",
      "Total number of columns in training data  14\n",
      "Total number of rows in test data  48000\n",
      "Total number of columns in test data  13\n"
     ]
    }
   ],
   "source": [
    "print(\"Total number of rows in training data \", train_data.shape[0])\n",
    "print(\"Total number of columns in training data \", train_data.shape[1])\n",
    "print(\"Total number of rows in test data \", test_data.shape[0])\n",
    "print(\"Total number of columns in test data \", test_data.shape[1])"
   ]
  },
  {
   "cell_type": "markdown",
   "id": "17688b4c",
   "metadata": {
    "papermill": {
     "duration": 0.027253,
     "end_time": "2022-01-17T10:39:27.682532",
     "exception": false,
     "start_time": "2022-01-17T10:39:27.655279",
     "status": "completed"
    },
    "tags": []
   },
   "source": [
    "Data visualization and Analysis"
   ]
  },
  {
   "cell_type": "markdown",
   "id": "4a9546ae",
   "metadata": {
    "papermill": {
     "duration": 0.028674,
     "end_time": "2022-01-17T10:39:27.740660",
     "exception": false,
     "start_time": "2022-01-17T10:39:27.711986",
     "status": "completed"
    },
    "tags": []
   },
   "source": [
    "Visualizing the number of null values in both data"
   ]
  },
  {
   "cell_type": "markdown",
   "id": "e0328099",
   "metadata": {
    "papermill": {
     "duration": 0.028303,
     "end_time": "2022-01-17T10:39:27.797461",
     "exception": false,
     "start_time": "2022-01-17T10:39:27.769158",
     "status": "completed"
    },
    "tags": []
   },
   "source": [
    "plt.figure(figsize = (13,5))\n",
    "plt.bar(train_data.columns, train_data.isna().sum())\n",
    "plt.xlabel(\"Columns name\")\n",
    "plt.ylabel(\"Number of missing values in training data\")\n",
    "plt.show()"
   ]
  },
  {
   "cell_type": "code",
   "execution_count": 6,
   "id": "dda5c8f2",
   "metadata": {
    "execution": {
     "iopub.execute_input": "2022-01-17T10:39:27.860338Z",
     "iopub.status.busy": "2022-01-17T10:39:27.859405Z",
     "iopub.status.idle": "2022-01-17T10:39:28.185926Z",
     "shell.execute_reply": "2022-01-17T10:39:28.185092Z",
     "shell.execute_reply.started": "2022-01-17T10:37:35.887803Z"
    },
    "papermill": {
     "duration": 0.361062,
     "end_time": "2022-01-17T10:39:28.186133",
     "exception": false,
     "start_time": "2022-01-17T10:39:27.825071",
     "status": "completed"
    },
    "tags": []
   },
   "outputs": [
    {
     "data": {
      "image/png": "[encoded data removed]",
      "text/plain": [
       "<Figure size 936x360 with 1 Axes>"
      ]
     },
     "metadata": {
      "needs_background": "light"
     },
     "output_type": "display_data"
    }
   ],
   "source": [
    "plt.figure(figsize = (13,5))\n",
    "plt.bar(train_data.columns, train_data.isna().sum())\n",
    "plt.xlabel(\"Columns name\")\n",
    "plt.ylabel(\"Number of missing values in training data\")\n",
    "plt.show()"
   ]
  },
  {
   "cell_type": "code",
   "execution_count": 7,
   "id": "2df98178",
   "metadata": {
    "execution": {
     "iopub.execute_input": "2022-01-17T10:39:28.254611Z",
     "iopub.status.busy": "2022-01-17T10:39:28.253580Z",
     "iopub.status.idle": "2022-01-17T10:39:28.282802Z",
     "shell.execute_reply": "2022-01-17T10:39:28.283542Z",
     "shell.execute_reply.started": "2022-01-17T10:37:40.483010Z"
    },
    "papermill": {
     "duration": 0.063446,
     "end_time": "2022-01-17T10:39:28.283792",
     "exception": false,
     "start_time": "2022-01-17T10:39:28.220346",
     "status": "completed"
    },
    "tags": []
   },
   "outputs": [
    {
     "data": {
      "text/plain": [
       "(Index(['id', 'obs_day', 'obs_hour', 'obs_minute', 'C_motion', 'fw_motion',\n",
       "        'faucet_hole', 'vap_pressure', 'vap_enth', 'vap_pressure_div',\n",
       "        'vap_motion', 'fw_enth', 'vap_temp', 'output_gen'],\n",
       "       dtype='object'),\n",
       " id                     0\n",
       " obs_day             7837\n",
       " obs_hour            7970\n",
       " obs_minute          7852\n",
       " C_motion            7911\n",
       " fw_motion           7912\n",
       " faucet_hole         7915\n",
       " vap_pressure        7931\n",
       " vap_enth            7821\n",
       " vap_pressure_div    7803\n",
       " vap_motion          7892\n",
       " fw_enth             7843\n",
       " vap_temp            7888\n",
       " output_gen             0\n",
       " dtype: int64)"
      ]
     },
     "execution_count": 7,
     "metadata": {},
     "output_type": "execute_result"
    }
   ],
   "source": [
    "train_data.columns, train_data.isna().sum()"
   ]
  },
  {
   "cell_type": "code",
   "execution_count": 8,
   "id": "e7e574d6",
   "metadata": {
    "execution": {
     "iopub.execute_input": "2022-01-17T10:39:28.357328Z",
     "iopub.status.busy": "2022-01-17T10:39:28.356543Z",
     "iopub.status.idle": "2022-01-17T10:39:28.380768Z",
     "shell.execute_reply": "2022-01-17T10:39:28.380058Z",
     "shell.execute_reply.started": "2022-01-17T10:37:43.331968Z"
    },
    "papermill": {
     "duration": 0.062855,
     "end_time": "2022-01-17T10:39:28.380922",
     "exception": false,
     "start_time": "2022-01-17T10:39:28.318067",
     "status": "completed"
    },
    "tags": []
   },
   "outputs": [],
   "source": [
    "train_data['obs_hour'] = train_data['obs_hour'].replace(np.NaN,train_data['obs_hour'].mean())\n",
    "train_data['obs_minute'] = train_data['obs_minute'].replace(np.NaN,train_data['obs_minute'].mean())\n",
    "train_data['C_motion'] = train_data['C_motion'].replace(np.NaN,train_data['C_motion'].mean())\n",
    "train_data['fw_motion'] = train_data['fw_motion'].replace(np.NaN,train_data['fw_motion'].mean())\n",
    "train_data['faucet_hole'] = train_data['faucet_hole'].replace(np.NaN,train_data['faucet_hole'].mean())\n",
    "train_data['vap_pressure'] = train_data['vap_pressure'].replace(np.NaN,train_data['vap_pressure'].mean())\n",
    "train_data['vap_pressure_div'] = train_data['vap_pressure_div'].replace(np.NaN,train_data['vap_pressure_div'].mean())\n",
    "train_data['vap_motion'] = train_data['vap_motion'].replace(np.NaN,train_data['vap_motion'].mean())\n",
    "train_data['fw_enth'] = train_data['fw_enth'].replace(np.NaN,train_data['fw_enth'].mean())\n",
    "train_data['vap_temp'] = train_data['vap_temp'].replace(np.NaN,train_data['vap_temp'].mean())\n",
    "train_data['vap_enth'] = train_data['vap_enth'].replace(np.NaN,train_data['vap_enth'].mean())\n"
   ]
  },
  {
   "cell_type": "code",
   "execution_count": 9,
   "id": "d9493f32",
   "metadata": {
    "execution": {
     "iopub.execute_input": "2022-01-17T10:39:28.456772Z",
     "iopub.status.busy": "2022-01-17T10:39:28.456078Z",
     "iopub.status.idle": "2022-01-17T10:39:28.485804Z",
     "shell.execute_reply": "2022-01-17T10:39:28.486673Z",
     "shell.execute_reply.started": "2022-01-17T10:37:46.239032Z"
    },
    "papermill": {
     "duration": 0.069212,
     "end_time": "2022-01-17T10:39:28.486928",
     "exception": false,
     "start_time": "2022-01-17T10:39:28.417716",
     "status": "completed"
    },
    "tags": []
   },
   "outputs": [
    {
     "data": {
      "text/plain": [
       "(Index(['id', 'obs_day', 'obs_hour', 'obs_minute', 'C_motion', 'fw_motion',\n",
       "        'faucet_hole', 'vap_pressure', 'vap_enth', 'vap_pressure_div',\n",
       "        'vap_motion', 'fw_enth', 'vap_temp', 'output_gen'],\n",
       "       dtype='object'),\n",
       " id                     0\n",
       " obs_day             7837\n",
       " obs_hour               0\n",
       " obs_minute             0\n",
       " C_motion               0\n",
       " fw_motion              0\n",
       " faucet_hole            0\n",
       " vap_pressure           0\n",
       " vap_enth               0\n",
       " vap_pressure_div       0\n",
       " vap_motion             0\n",
       " fw_enth                0\n",
       " vap_temp               0\n",
       " output_gen             0\n",
       " dtype: int64)"
      ]
     },
     "execution_count": 9,
     "metadata": {},
     "output_type": "execute_result"
    }
   ],
   "source": [
    "train_data.columns, train_data.isna().sum()"
   ]
  },
  {
   "cell_type": "code",
   "execution_count": 10,
   "id": "0cb5ee8f",
   "metadata": {
    "execution": {
     "iopub.execute_input": "2022-01-17T10:39:28.568210Z",
     "iopub.status.busy": "2022-01-17T10:39:28.553017Z",
     "iopub.status.idle": "2022-01-17T10:39:28.588319Z",
     "shell.execute_reply": "2022-01-17T10:39:28.587794Z",
     "shell.execute_reply.started": "2022-01-17T10:37:48.857148Z"
    },
    "papermill": {
     "duration": 0.068975,
     "end_time": "2022-01-17T10:39:28.588500",
     "exception": false,
     "start_time": "2022-01-17T10:39:28.519525",
     "status": "completed"
    },
    "tags": []
   },
   "outputs": [
    {
     "data": {
      "text/plain": [
       "count        64163\n",
       "unique           2\n",
       "top       Saturday\n",
       "freq         33637\n",
       "Name: obs_day, dtype: object"
      ]
     },
     "execution_count": 10,
     "metadata": {},
     "output_type": "execute_result"
    }
   ],
   "source": [
    "train_data['obs_day'].describe()"
   ]
  },
  {
   "cell_type": "code",
   "execution_count": 11,
   "id": "5129eaa6",
   "metadata": {
    "execution": {
     "iopub.execute_input": "2022-01-17T10:39:28.652767Z",
     "iopub.status.busy": "2022-01-17T10:39:28.651808Z",
     "iopub.status.idle": "2022-01-17T10:39:28.665875Z",
     "shell.execute_reply": "2022-01-17T10:39:28.665157Z",
     "shell.execute_reply.started": "2022-01-17T10:37:53.791894Z"
    },
    "papermill": {
     "duration": 0.047516,
     "end_time": "2022-01-17T10:39:28.666027",
     "exception": false,
     "start_time": "2022-01-17T10:39:28.618511",
     "status": "completed"
    },
    "tags": []
   },
   "outputs": [],
   "source": [
    "train_data['obs_day'].fillna('Saturday', inplace = True)\n"
   ]
  },
  {
   "cell_type": "code",
   "execution_count": 12,
   "id": "d7391a44",
   "metadata": {
    "execution": {
     "iopub.execute_input": "2022-01-17T10:39:28.731681Z",
     "iopub.status.busy": "2022-01-17T10:39:28.730695Z",
     "iopub.status.idle": "2022-01-17T10:39:28.754800Z",
     "shell.execute_reply": "2022-01-17T10:39:28.755445Z",
     "shell.execute_reply.started": "2022-01-17T10:37:57.393651Z"
    },
    "papermill": {
     "duration": 0.05968,
     "end_time": "2022-01-17T10:39:28.755633",
     "exception": false,
     "start_time": "2022-01-17T10:39:28.695953",
     "status": "completed"
    },
    "tags": []
   },
   "outputs": [
    {
     "data": {
      "text/plain": [
       "(Index(['id', 'obs_day', 'obs_hour', 'obs_minute', 'C_motion', 'fw_motion',\n",
       "        'faucet_hole', 'vap_pressure', 'vap_enth', 'vap_pressure_div',\n",
       "        'vap_motion', 'fw_enth', 'vap_temp', 'output_gen'],\n",
       "       dtype='object'),\n",
       " id                  0\n",
       " obs_day             0\n",
       " obs_hour            0\n",
       " obs_minute          0\n",
       " C_motion            0\n",
       " fw_motion           0\n",
       " faucet_hole         0\n",
       " vap_pressure        0\n",
       " vap_enth            0\n",
       " vap_pressure_div    0\n",
       " vap_motion          0\n",
       " fw_enth             0\n",
       " vap_temp            0\n",
       " output_gen          0\n",
       " dtype: int64)"
      ]
     },
     "execution_count": 12,
     "metadata": {},
     "output_type": "execute_result"
    }
   ],
   "source": [
    "train_data.columns, train_data.isna().sum()"
   ]
  },
  {
   "cell_type": "code",
   "execution_count": 13,
   "id": "2ead8494",
   "metadata": {
    "execution": {
     "iopub.execute_input": "2022-01-17T10:39:28.819282Z",
     "iopub.status.busy": "2022-01-17T10:39:28.818309Z",
     "iopub.status.idle": "2022-01-17T10:39:28.833091Z",
     "shell.execute_reply": "2022-01-17T10:39:28.833577Z",
     "shell.execute_reply.started": "2022-01-17T10:38:01.327965Z"
    },
    "papermill": {
     "duration": 0.048298,
     "end_time": "2022-01-17T10:39:28.833767",
     "exception": false,
     "start_time": "2022-01-17T10:39:28.785469",
     "status": "completed"
    },
    "tags": []
   },
   "outputs": [],
   "source": [
    "change = {'Monday':1,'Tuesday':2,'Wednesday':3,'Thursday':4,'Friday':5,'Saturday':6,'Sunday':7}\n",
    "train_data['obs_day'] = train_data['obs_day'].map(change)\n"
   ]
  },
  {
   "cell_type": "code",
   "execution_count": 14,
   "id": "f132af7c",
   "metadata": {
    "execution": {
     "iopub.execute_input": "2022-01-17T10:39:28.897471Z",
     "iopub.status.busy": "2022-01-17T10:39:28.896378Z",
     "iopub.status.idle": "2022-01-17T10:39:29.152895Z",
     "shell.execute_reply": "2022-01-17T10:39:29.153334Z",
     "shell.execute_reply.started": "2022-01-17T10:38:04.289578Z"
    },
    "papermill": {
     "duration": 0.290173,
     "end_time": "2022-01-17T10:39:29.153520",
     "exception": false,
     "start_time": "2022-01-17T10:39:28.863347",
     "status": "completed"
    },
    "tags": []
   },
   "outputs": [
    {
     "data": {
      "image/png": "[encoded data removed]",
      "text/plain": [
       "<Figure size 936x360 with 1 Axes>"
      ]
     },
     "metadata": {
      "needs_background": "light"
     },
     "output_type": "display_data"
    }
   ],
   "source": [
    "plt.figure(figsize = (13,5))\n",
    "plt.bar(test_data.columns, test_data.isnull().sum().values, color = 'red')\n",
    "plt.xlabel(\"Columns name\")\n",
    "plt.ylabel(\"Number of missing values in test data\")\n",
    "plt.show()"
   ]
  },
  {
   "cell_type": "code",
   "execution_count": 15,
   "id": "89462cb2",
   "metadata": {
    "execution": {
     "iopub.execute_input": "2022-01-17T10:39:29.220789Z",
     "iopub.status.busy": "2022-01-17T10:39:29.220102Z",
     "iopub.status.idle": "2022-01-17T10:39:29.236644Z",
     "shell.execute_reply": "2022-01-17T10:39:29.237200Z",
     "shell.execute_reply.started": "2022-01-17T10:38:07.352826Z"
    },
    "papermill": {
     "duration": 0.052719,
     "end_time": "2022-01-17T10:39:29.237370",
     "exception": false,
     "start_time": "2022-01-17T10:39:29.184651",
     "status": "completed"
    },
    "tags": []
   },
   "outputs": [
    {
     "data": {
      "text/plain": [
       "(Index(['id', 'obs_day', 'obs_hour', 'obs_minute', 'C_motion', 'fw_motion',\n",
       "        'faucet_hole', 'vap_pressure', 'vap_enth', 'vap_pressure_div',\n",
       "        'vap_motion', 'fw_enth', 'vap_temp'],\n",
       "       dtype='object'),\n",
       " id                  0\n",
       " obs_day             0\n",
       " obs_hour            0\n",
       " obs_minute          0\n",
       " C_motion            0\n",
       " fw_motion           0\n",
       " faucet_hole         0\n",
       " vap_pressure        0\n",
       " vap_enth            0\n",
       " vap_pressure_div    0\n",
       " vap_motion          0\n",
       " fw_enth             0\n",
       " vap_temp            0\n",
       " output_gen          0\n",
       " dtype: int64)"
      ]
     },
     "execution_count": 15,
     "metadata": {},
     "output_type": "execute_result"
    }
   ],
   "source": [
    "test_data.columns, train_data.isna().sum()"
   ]
  },
  {
   "cell_type": "code",
   "execution_count": 16,
   "id": "9fa9a72c",
   "metadata": {
    "execution": {
     "iopub.execute_input": "2022-01-17T10:39:29.304589Z",
     "iopub.status.busy": "2022-01-17T10:39:29.303904Z",
     "iopub.status.idle": "2022-01-17T10:39:29.324347Z",
     "shell.execute_reply": "2022-01-17T10:39:29.323674Z",
     "shell.execute_reply.started": "2022-01-17T10:38:10.307098Z"
    },
    "papermill": {
     "duration": 0.054643,
     "end_time": "2022-01-17T10:39:29.324505",
     "exception": false,
     "start_time": "2022-01-17T10:39:29.269862",
     "status": "completed"
    },
    "tags": []
   },
   "outputs": [],
   "source": [
    "test_data['obs_hour'] = test_data['obs_hour'].replace(np.NaN,test_data['obs_hour'].mean())\n",
    "test_data['obs_minute'] = test_data['obs_minute'].replace(np.NaN,test_data['obs_minute'].mean())\n",
    "test_data['C_motion'] = test_data['C_motion'].replace(np.NaN,test_data['C_motion'].mean())\n",
    "test_data['fw_motion'] = test_data['fw_motion'].replace(np.NaN,test_data['fw_motion'].mean())\n",
    "test_data['faucet_hole'] = test_data['faucet_hole'].replace(np.NaN,test_data['faucet_hole'].mean())\n",
    "test_data['vap_pressure'] = test_data['vap_pressure'].replace(np.NaN,test_data['vap_pressure'].mean())\n",
    "test_data['vap_pressure_div'] = test_data['vap_pressure_div'].replace(np.NaN,test_data['vap_pressure_div'].mean())\n",
    "test_data['vap_motion'] = test_data['vap_motion'].replace(np.NaN,test_data['vap_motion'].mean())\n",
    "test_data['fw_enth'] = test_data['fw_enth'].replace(np.NaN,test_data['fw_enth'].mean())\n",
    "test_data['vap_temp'] = test_data['vap_temp'].replace(np.NaN,test_data['vap_temp'].mean())\n",
    "test_data['vap_enth'] = test_data['vap_enth'].replace(np.NaN,test_data['vap_enth'].mean())"
   ]
  },
  {
   "cell_type": "code",
   "execution_count": 17,
   "id": "f1b1453b",
   "metadata": {
    "execution": {
     "iopub.execute_input": "2022-01-17T10:39:29.397077Z",
     "iopub.status.busy": "2022-01-17T10:39:29.396357Z",
     "iopub.status.idle": "2022-01-17T10:39:29.401131Z",
     "shell.execute_reply": "2022-01-17T10:39:29.400590Z",
     "shell.execute_reply.started": "2022-01-17T10:38:14.333055Z"
    },
    "papermill": {
     "duration": 0.045535,
     "end_time": "2022-01-17T10:39:29.401279",
     "exception": false,
     "start_time": "2022-01-17T10:39:29.355744",
     "status": "completed"
    },
    "tags": []
   },
   "outputs": [],
   "source": [
    "test_data['obs_day'].fillna('Saturday', inplace = True)"
   ]
  },
  {
   "cell_type": "code",
   "execution_count": 18,
   "id": "1c34a2bf",
   "metadata": {
    "execution": {
     "iopub.execute_input": "2022-01-17T10:39:29.476978Z",
     "iopub.status.busy": "2022-01-17T10:39:29.476260Z",
     "iopub.status.idle": "2022-01-17T10:39:29.482083Z",
     "shell.execute_reply": "2022-01-17T10:39:29.481532Z",
     "shell.execute_reply.started": "2022-01-17T10:38:16.856386Z"
    },
    "papermill": {
     "duration": 0.049154,
     "end_time": "2022-01-17T10:39:29.482221",
     "exception": false,
     "start_time": "2022-01-17T10:39:29.433067",
     "status": "completed"
    },
    "tags": []
   },
   "outputs": [],
   "source": [
    "change = {'Monday':1,'Tuesday':2,'Wednesday':3,'Thursday':4,'Friday':5,'Saturday':6,'Sunday':7}\n",
    "test_data['obs_day'] = test_data['obs_day'].map(change)"
   ]
  },
  {
   "cell_type": "code",
   "execution_count": 19,
   "id": "0bbdc437",
   "metadata": {
    "execution": {
     "iopub.execute_input": "2022-01-17T10:39:29.550116Z",
     "iopub.status.busy": "2022-01-17T10:39:29.549393Z",
     "iopub.status.idle": "2022-01-17T10:39:29.566786Z",
     "shell.execute_reply": "2022-01-17T10:39:29.566198Z",
     "shell.execute_reply.started": "2022-01-17T10:38:19.892033Z"
    },
    "papermill": {
     "duration": 0.053175,
     "end_time": "2022-01-17T10:39:29.566938",
     "exception": false,
     "start_time": "2022-01-17T10:39:29.513763",
     "status": "completed"
    },
    "tags": []
   },
   "outputs": [
    {
     "data": {
      "text/plain": [
       "(Index(['id', 'obs_day', 'obs_hour', 'obs_minute', 'C_motion', 'fw_motion',\n",
       "        'faucet_hole', 'vap_pressure', 'vap_enth', 'vap_pressure_div',\n",
       "        'vap_motion', 'fw_enth', 'vap_temp'],\n",
       "       dtype='object'),\n",
       " id                  0\n",
       " obs_day             0\n",
       " obs_hour            0\n",
       " obs_minute          0\n",
       " C_motion            0\n",
       " fw_motion           0\n",
       " faucet_hole         0\n",
       " vap_pressure        0\n",
       " vap_enth            0\n",
       " vap_pressure_div    0\n",
       " vap_motion          0\n",
       " fw_enth             0\n",
       " vap_temp            0\n",
       " output_gen          0\n",
       " dtype: int64)"
      ]
     },
     "execution_count": 19,
     "metadata": {},
     "output_type": "execute_result"
    }
   ],
   "source": [
    "test_data.columns, train_data.isna().sum()"
   ]
  },
  {
   "cell_type": "code",
   "execution_count": 20,
   "id": "3023664e",
   "metadata": {
    "execution": {
     "iopub.execute_input": "2022-01-17T10:39:29.648129Z",
     "iopub.status.busy": "2022-01-17T10:39:29.647401Z",
     "iopub.status.idle": "2022-01-17T10:39:29.650706Z",
     "shell.execute_reply": "2022-01-17T10:39:29.650133Z",
     "shell.execute_reply.started": "2022-01-17T10:38:22.873923Z"
    },
    "papermill": {
     "duration": 0.052017,
     "end_time": "2022-01-17T10:39:29.650848",
     "exception": false,
     "start_time": "2022-01-17T10:39:29.598831",
     "status": "completed"
    },
    "tags": []
   },
   "outputs": [],
   "source": [
    "X_final = train_data.drop(\"output_gen\", axis=1)\n",
    "X = X_final.drop(\"id\", axis=1)\n",
    "y = train_data[\"output_gen\"]"
   ]
  },
  {
   "cell_type": "code",
   "execution_count": 21,
   "id": "7b120c9a",
   "metadata": {
    "execution": {
     "iopub.execute_input": "2022-01-17T10:39:29.724584Z",
     "iopub.status.busy": "2022-01-17T10:39:29.723879Z",
     "iopub.status.idle": "2022-01-17T10:39:29.726893Z",
     "shell.execute_reply": "2022-01-17T10:39:29.726264Z",
     "shell.execute_reply.started": "2022-01-17T10:38:25.591340Z"
    },
    "papermill": {
     "duration": 0.043392,
     "end_time": "2022-01-17T10:39:29.727031",
     "exception": false,
     "start_time": "2022-01-17T10:39:29.683639",
     "status": "completed"
    },
    "tags": []
   },
   "outputs": [],
   "source": [
    "Final_X_test =  test_data.drop(\"id\", axis=1)"
   ]
  },
  {
   "cell_type": "code",
   "execution_count": 22,
   "id": "409a2118",
   "metadata": {
    "execution": {
     "iopub.execute_input": "2022-01-17T10:39:29.796780Z",
     "iopub.status.busy": "2022-01-17T10:39:29.796042Z",
     "iopub.status.idle": "2022-01-17T10:39:29.799962Z",
     "shell.execute_reply": "2022-01-17T10:39:29.800463Z",
     "shell.execute_reply.started": "2022-01-17T10:38:27.445917Z"
    },
    "papermill": {
     "duration": 0.04201,
     "end_time": "2022-01-17T10:39:29.800644",
     "exception": false,
     "start_time": "2022-01-17T10:39:29.758634",
     "status": "completed"
    },
    "tags": []
   },
   "outputs": [
    {
     "name": "stdout",
     "output_type": "stream",
     "text": [
      "shape of X_train (72000, 12)\n",
      "Shape of Y_train (48000, 12)\n"
     ]
    }
   ],
   "source": [
    "print(\"shape of X_train\",X.shape)\n",
    "print(\"Shape of Y_train\",Final_X_test.shape)\n"
   ]
  },
  {
   "cell_type": "code",
   "execution_count": 23,
   "id": "d8bd23a0",
   "metadata": {
    "execution": {
     "iopub.execute_input": "2022-01-17T10:39:29.870706Z",
     "iopub.status.busy": "2022-01-17T10:39:29.870001Z",
     "iopub.status.idle": "2022-01-17T10:39:30.066307Z",
     "shell.execute_reply": "2022-01-17T10:39:30.066811Z",
     "shell.execute_reply.started": "2022-01-17T10:38:30.158104Z"
    },
    "papermill": {
     "duration": 0.233625,
     "end_time": "2022-01-17T10:39:30.066998",
     "exception": false,
     "start_time": "2022-01-17T10:39:29.833373",
     "status": "completed"
    },
    "tags": []
   },
   "outputs": [],
   "source": [
    "from sklearn.model_selection import train_test_split\n",
    "X_train, X_test, y_train, y_test = train_test_split(X, y, train_size = 0.7, test_size = 0.3, random_state = 100)"
   ]
  },
  {
   "cell_type": "code",
   "execution_count": 24,
   "id": "3f3853a4",
   "metadata": {
    "execution": {
     "iopub.execute_input": "2022-01-17T10:39:30.136384Z",
     "iopub.status.busy": "2022-01-17T10:39:30.135444Z",
     "iopub.status.idle": "2022-01-17T10:39:30.221808Z",
     "shell.execute_reply": "2022-01-17T10:39:30.222359Z",
     "shell.execute_reply.started": "2022-01-17T10:38:32.641193Z"
    },
    "papermill": {
     "duration": 0.122744,
     "end_time": "2022-01-17T10:39:30.222580",
     "exception": false,
     "start_time": "2022-01-17T10:39:30.099836",
     "status": "completed"
    },
    "tags": []
   },
   "outputs": [],
   "source": [
    "from sklearn.linear_model import LinearRegression\n",
    "from sklearn.metrics import mean_squared_error\n",
    "from math import sqrt\n",
    "\n",
    "\n",
    "clf = LinearRegression()\n"
   ]
  },
  {
   "cell_type": "code",
   "execution_count": 25,
   "id": "3faf7c56",
   "metadata": {
    "execution": {
     "iopub.execute_input": "2022-01-17T10:39:30.290330Z",
     "iopub.status.busy": "2022-01-17T10:39:30.289346Z",
     "iopub.status.idle": "2022-01-17T10:39:30.336824Z",
     "shell.execute_reply": "2022-01-17T10:39:30.337397Z",
     "shell.execute_reply.started": "2022-01-17T10:38:35.136728Z"
    },
    "papermill": {
     "duration": 0.0831,
     "end_time": "2022-01-17T10:39:30.337638",
     "exception": false,
     "start_time": "2022-01-17T10:39:30.254538",
     "status": "completed"
    },
    "tags": []
   },
   "outputs": [
    {
     "data": {
      "text/plain": [
       "LinearRegression()"
      ]
     },
     "execution_count": 25,
     "metadata": {},
     "output_type": "execute_result"
    }
   ],
   "source": [
    "clf.fit(X_train,y_train)"
   ]
  },
  {
   "cell_type": "code",
   "execution_count": 26,
   "id": "50caa853",
   "metadata": {
    "execution": {
     "iopub.execute_input": "2022-01-17T10:39:30.407354Z",
     "iopub.status.busy": "2022-01-17T10:39:30.405928Z",
     "iopub.status.idle": "2022-01-17T10:39:30.421290Z",
     "shell.execute_reply": "2022-01-17T10:39:30.422894Z",
     "shell.execute_reply.started": "2022-01-17T10:38:37.200609Z"
    },
    "papermill": {
     "duration": 0.052788,
     "end_time": "2022-01-17T10:39:30.423180",
     "exception": false,
     "start_time": "2022-01-17T10:39:30.370392",
     "status": "completed"
    },
    "tags": []
   },
   "outputs": [],
   "source": [
    "preds = clf.predict(X_test)"
   ]
  },
  {
   "cell_type": "code",
   "execution_count": 27,
   "id": "81c8746c",
   "metadata": {
    "execution": {
     "iopub.execute_input": "2022-01-17T10:39:30.546106Z",
     "iopub.status.busy": "2022-01-17T10:39:30.545386Z",
     "iopub.status.idle": "2022-01-17T10:39:30.548988Z",
     "shell.execute_reply": "2022-01-17T10:39:30.549525Z",
     "shell.execute_reply.started": "2022-01-17T10:38:38.943591Z"
    },
    "papermill": {
     "duration": 0.066862,
     "end_time": "2022-01-17T10:39:30.549694",
     "exception": false,
     "start_time": "2022-01-17T10:39:30.482832",
     "status": "completed"
    },
    "tags": []
   },
   "outputs": [
    {
     "data": {
      "text/plain": [
       "40.60103156012485"
      ]
     },
     "execution_count": 27,
     "metadata": {},
     "output_type": "execute_result"
    }
   ],
   "source": [
    "np.sqrt(mean_squared_error(y_test, preds))"
   ]
  },
  {
   "cell_type": "code",
   "execution_count": 28,
   "id": "31bed5da",
   "metadata": {
    "execution": {
     "iopub.execute_input": "2022-01-17T10:39:30.619150Z",
     "iopub.status.busy": "2022-01-17T10:39:30.618531Z",
     "iopub.status.idle": "2022-01-17T10:39:30.629062Z",
     "shell.execute_reply": "2022-01-17T10:39:30.629681Z",
     "shell.execute_reply.started": "2022-01-17T10:38:41.186160Z"
    },
    "papermill": {
     "duration": 0.046965,
     "end_time": "2022-01-17T10:39:30.629996",
     "exception": false,
     "start_time": "2022-01-17T10:39:30.583031",
     "status": "completed"
    },
    "tags": []
   },
   "outputs": [],
   "source": [
    "preds = clf.predict(Final_X_test)"
   ]
  },
  {
   "cell_type": "code",
   "execution_count": 29,
   "id": "1b90d520",
   "metadata": {
    "execution": {
     "iopub.execute_input": "2022-01-17T10:39:30.752661Z",
     "iopub.status.busy": "2022-01-17T10:39:30.751946Z",
     "iopub.status.idle": "2022-01-17T10:39:30.755284Z",
     "shell.execute_reply": "2022-01-17T10:39:30.755800Z",
     "shell.execute_reply.started": "2022-01-17T10:38:46.840191Z"
    },
    "papermill": {
     "duration": 0.066244,
     "end_time": "2022-01-17T10:39:30.755967",
     "exception": false,
     "start_time": "2022-01-17T10:39:30.689723",
     "status": "completed"
    },
    "tags": []
   },
   "outputs": [],
   "source": [
    "submit = pd.DataFrame({\"id\":test_data.id, 'output_gen':preds})\n"
   ]
  },
  {
   "cell_type": "code",
   "execution_count": 30,
   "id": "3b2699ef",
   "metadata": {
    "execution": {
     "iopub.execute_input": "2022-01-17T10:39:30.827147Z",
     "iopub.status.busy": "2022-01-17T10:39:30.826497Z",
     "iopub.status.idle": "2022-01-17T10:39:31.119881Z",
     "shell.execute_reply": "2022-01-17T10:39:31.120392Z",
     "shell.execute_reply.started": "2022-01-17T10:38:49.722888Z"
    },
    "papermill": {
     "duration": 0.33165,
     "end_time": "2022-01-17T10:39:31.120596",
     "exception": false,
     "start_time": "2022-01-17T10:39:30.788946",
     "status": "completed"
    },
    "tags": []
   },
   "outputs": [
    {
     "name": "stdout",
     "output_type": "stream",
     "text": [
      "--done--\n"
     ]
    }
   ],
   "source": [
    "submit.to_csv('submission.csv', index=False)\n",
    "\n",
    "print('--done--')"
   ]
  }
 ],
 "metadata": {
  "kernelspec": {
   "display_name": "Python 3",
   "language": "python",
   "name": "python3"
  },
  "language_info": {
   "codemirror_mode": {
    "name": "ipython",
    "version": 3
   },
   "file_extension": ".py",
   "mimetype": "text/x-python",
   "name": "python",
   "nbconvert_exporter": "python",
   "pygments_lexer": "ipython3",
   "version": "3.7.12"
  },
  "papermill": {
   "default_parameters": {},
   "duration": 17.027967,
   "end_time": "2022-01-17T10:39:31.864927",
   "environment_variables": {},
   "exception": null,
   "input_path": "__notebook__.ipynb",
   "output_path": "__notebook__.ipynb",
   "parameters": {},
   "start_time": "2022-01-17T10:39:14.836960",
   "version": "2.3.3"
  }
 },
 "nbformat": 4,
 "nbformat_minor": 5
}
